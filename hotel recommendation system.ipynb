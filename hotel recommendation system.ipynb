{
 "cells": [
  {
   "cell_type": "code",
   "execution_count": 15,
   "id": "038016d0",
   "metadata": {},
   "outputs": [],
   "source": [
    "import pandas as pd\n",
    "import numpy as np\n",
    "from sklearn.feature_extraction.text import TfidfVectorizer\n",
    "from sklearn.metrics.pairwise import cosine_similarity\n",
    "from geopy.distance import geodesic\n",
    "from sklearn.neighbors import NearestNeighbors\n",
    "from sklearn.cluster import DBSCAN\n",
    "from sklearn.neighbors import BallTree\n",
    "from sklearn.preprocessing import StandardScaler\n",
    "from math import radians"
   ]
  },
  {
   "cell_type": "code",
   "execution_count": 2,
   "id": "3ab30193",
   "metadata": {},
   "outputs": [],
   "source": [
    "df = pd.read_csv('hotels.csv', encoding='ISO-8859-1')"
   ]
  },
  {
   "cell_type": "markdown",
   "id": "f7385b73",
   "metadata": {},
   "source": [
    "# 1. Data Cleaning & Preprocessing"
   ]
  },
  {
   "cell_type": "markdown",
   "id": "16d5e31a",
   "metadata": {},
   "source": [
    "## 1.1 Basic Data Understanding"
   ]
  },
  {
   "cell_type": "code",
   "execution_count": 3,
   "id": "552184f1",
   "metadata": {},
   "outputs": [
    {
     "data": {
      "text/plain": [
       "Index(['countyCode', ' countyName', ' cityCode', ' cityName', ' HotelCode',\n",
       "       ' HotelName', ' HotelRating', ' Address', ' Attractions',\n",
       "       ' Description', ' FaxNumber', ' HotelFacilities', ' Map',\n",
       "       ' PhoneNumber', ' PinCode', ' HotelWebsiteUrl'],\n",
       "      dtype='object')"
      ]
     },
     "execution_count": 3,
     "metadata": {},
     "output_type": "execute_result"
    }
   ],
   "source": [
    "df.columns"
   ]
  },
  {
   "cell_type": "code",
   "execution_count": 4,
   "id": "62807a33",
   "metadata": {},
   "outputs": [
    {
     "data": {
      "text/plain": [
       "(1010033, 16)"
      ]
     },
     "execution_count": 4,
     "metadata": {},
     "output_type": "execute_result"
    }
   ],
   "source": [
    "df.shape"
   ]
  },
  {
   "cell_type": "markdown",
   "id": "03578fa0",
   "metadata": {},
   "source": [
    "## 1.2 Geospatial Data Cleaning"
   ]
  },
  {
   "cell_type": "code",
   "execution_count": 5,
   "id": "647973fc",
   "metadata": {},
   "outputs": [],
   "source": [
    "# remove leading/trailing spaces from all column names\n",
    "df.rename(columns=lambda x: x.strip(), inplace=True)  \n",
    "\n",
    "# split the 'Map' column (which contains \"latitude|longitude\" strings)\n",
    "df[['latitude', 'longitude']] = df['Map'].str.split('|', expand=True)\n",
    "\n",
    "# convert latitude and longtitude column from string to float \n",
    "df['latitude'] = pd.to_numeric(df['latitude'], errors='coerce')\n",
    "df['longitude'] = pd.to_numeric(df['longitude'], errors='coerce')\n",
    "\n",
    "# drop the original 'Map' column\n",
    "df.drop(columns=['Map'], inplace=True)\n",
    "\n",
    "# drop rows with missing or invalid coordinates\n",
    "df = df[df['latitude'].notna() & df['longitude'].notna()]\n"
   ]
  },
  {
   "cell_type": "code",
   "execution_count": 6,
   "id": "efb474ab",
   "metadata": {},
   "outputs": [
    {
     "data": {
      "text/plain": [
       "(1009101, 17)"
      ]
     },
     "execution_count": 6,
     "metadata": {},
     "output_type": "execute_result"
    }
   ],
   "source": [
    "df.shape"
   ]
  },
  {
   "cell_type": "markdown",
   "id": "88cfdef4",
   "metadata": {},
   "source": [
    "## 1.3 Handle Missing Value"
   ]
  },
  {
   "cell_type": "code",
   "execution_count": 7,
   "id": "9073da7a",
   "metadata": {},
   "outputs": [
    {
     "data": {
      "text/plain": [
       "countyCode            912\n",
       "countyName              0\n",
       "cityCode                0\n",
       "cityName                0\n",
       "HotelCode               0\n",
       "HotelName               0\n",
       "HotelRating             0\n",
       "Address               101\n",
       "Attractions        524475\n",
       "Description         46871\n",
       "FaxNumber          559594\n",
       "HotelFacilities     49502\n",
       "PhoneNumber        326461\n",
       "PinCode             30383\n",
       "HotelWebsiteUrl    249240\n",
       "latitude                0\n",
       "longitude               0\n",
       "dtype: int64"
      ]
     },
     "execution_count": 7,
     "metadata": {},
     "output_type": "execute_result"
    }
   ],
   "source": [
    "df.isnull().sum()"
   ]
  },
  {
   "cell_type": "code",
   "execution_count": 8,
   "id": "8155365d",
   "metadata": {},
   "outputs": [],
   "source": [
    "# Drop unneeded columns\n",
    "df.drop(columns=['FaxNumber', 'PinCode'], inplace=True)\n",
    "\n",
    "# Fill missing text fields\n",
    "text_cols = ['Address', 'Attractions', 'Description', 'HotelFacilities']\n",
    "df[text_cols] = df[text_cols].fillna('')\n",
    "\n",
    "# Handle countyCode\n",
    "df['countyCode'] = df['countyCode'].fillna('unknown')\n"
   ]
  },
  {
   "cell_type": "code",
   "execution_count": 9,
   "id": "7250dcaf",
   "metadata": {},
   "outputs": [],
   "source": [
    "# Filter hotels that have zero useful content (i.e. all 4 text fields empty)\n",
    "df['info_score'] = df[text_cols].apply(lambda x: sum([bool(s.strip()) for s in x]), axis=1)\n",
    "df = df[df['info_score'] >= 1]  # keep hotels with at least 1 non-empty text feature"
   ]
  },
  {
   "cell_type": "code",
   "execution_count": 10,
   "id": "b82a9e1a",
   "metadata": {},
   "outputs": [
    {
     "data": {
      "text/plain": [
       "(1009007, 16)"
      ]
     },
     "execution_count": 10,
     "metadata": {},
     "output_type": "execute_result"
    }
   ],
   "source": [
    "df.shape"
   ]
  },
  {
   "cell_type": "code",
   "execution_count": 11,
   "id": "93374dd2",
   "metadata": {},
   "outputs": [],
   "source": [
    "rating_order = {\n",
    "    'OneStar': 1,\n",
    "    'TwoStar': 2,\n",
    "    'ThreeStar': 3,\n",
    "    'FourStar': 4,\n",
    "    'FiveStar': 5,\n",
    "    'All': 0  # optional catch-all\n",
    "}\n",
    "\n",
    "# Create a numerical column for easier sorting\n",
    "df['RatingValue'] = df['HotelRating'].map(rating_order)\n"
   ]
  },
  {
   "cell_type": "markdown",
   "id": "6b6eb48d",
   "metadata": {},
   "source": [
    "# 1.4 Clusterring to remove locations outlier"
   ]
  },
  {
   "cell_type": "code",
   "execution_count": 16,
   "id": "31a1c6a0",
   "metadata": {},
   "outputs": [
    {
     "name": "stderr",
     "output_type": "stream",
     "text": [
      "C:\\Users\\Ong Hui Ling\\AppData\\Local\\Temp\\ipykernel_27240\\3952928081.py:17: SettingWithCopyWarning: \n",
      "A value is trying to be set on a copy of a slice from a DataFrame\n",
      "\n",
      "See the caveats in the documentation: https://pandas.pydata.org/pandas-docs/stable/user_guide/indexing.html#returning-a-view-versus-a-copy\n",
      "  df.drop(columns = ['Cluster'], inplace = True)\n"
     ]
    }
   ],
   "source": [
    "# Prepare lat-lon array\n",
    "coords = df[['latitude', 'longitude']].to_numpy()\n",
    "\n",
    "# Convert degrees to radians\n",
    "coords_rad = np.radians(coords)\n",
    "\n",
    "# DBSCAN parameters\n",
    "kms_per_radian = 6371.0088\n",
    "epsilon = 5 / kms_per_radian  # 5km radius\n",
    "\n",
    "# Cluster\n",
    "db = DBSCAN(eps=epsilon, min_samples=3, algorithm='ball_tree', metric='haversine').fit(coords_rad)\n",
    "df['Cluster'] = db.labels_\n",
    "\n",
    "# Remove outliers (label = -1)\n",
    "df = df[df['Cluster'] != -1]\n",
    "df.drop(columns = ['Cluster'], inplace = True)"
   ]
  },
  {
   "cell_type": "markdown",
   "id": "33c6e62b",
   "metadata": {},
   "source": [
    "# 2. Recommendation System Modelling"
   ]
  },
  {
   "cell_type": "markdown",
   "id": "ef27a7b0",
   "metadata": {},
   "source": [
    "# 2.1 Location-Based Filtering (with optional radius)"
   ]
  },
  {
   "cell_type": "code",
   "execution_count": 17,
   "id": "5ad666d8",
   "metadata": {},
   "outputs": [],
   "source": [
    "from geopy.distance import geodesic\n",
    "\n",
    "# Function to filter by city and find nearby hotels (based on latitude/longitude)\n",
    "def filter_by_location(city_name, radius_km=10):\n",
    "    # Filter by city\n",
    "    city_hotels = df[df['cityName'] == city_name]\n",
    "    \n",
    "    # Get the base city hotel's coordinates\n",
    "    base_lat = city_hotels.iloc[0]['latitude']\n",
    "    base_lon = city_hotels.iloc[0]['longitude']\n",
    "    \n",
    "    base_coord = (base_lat, base_lon)\n",
    "    \n",
    "    # Calculate distances for all hotels in the city\n",
    "    city_hotels['distance_km'] = city_hotels.apply(\n",
    "        lambda row: geodesic(base_coord, (row['latitude'], row['longitude'])).km, axis=1)\n",
    "    \n",
    "    # Filter by radius \n",
    "    nearby_hotels = city_hotels[city_hotels['distance_km'] <= radius_km]\n",
    "    \n",
    "    return nearby_hotels\n"
   ]
  },
  {
   "cell_type": "markdown",
   "id": "8c7631f4",
   "metadata": {},
   "source": [
    "# 2.2 Content-Based Filtering (TF-IDF + NearestNeighbors)"
   ]
  },
  {
   "cell_type": "code",
   "execution_count": 18,
   "id": "cc3777ba",
   "metadata": {},
   "outputs": [
    {
     "name": "stderr",
     "output_type": "stream",
     "text": [
      "C:\\Users\\Ong Hui Ling\\AppData\\Local\\Temp\\ipykernel_27240\\3200295879.py:2: SettingWithCopyWarning: \n",
      "A value is trying to be set on a copy of a slice from a DataFrame.\n",
      "Try using .loc[row_indexer,col_indexer] = value instead\n",
      "\n",
      "See the caveats in the documentation: https://pandas.pydata.org/pandas-docs/stable/user_guide/indexing.html#returning-a-view-versus-a-copy\n",
      "  df['combined_features'] = df['HotelFacilities'] + ' ' + df['Attractions'] + ' ' + df['Description']\n"
     ]
    }
   ],
   "source": [
    "# Create a combined text feature for content-based filtering\n",
    "df['combined_features'] = df['HotelFacilities'] + ' ' + df['Attractions'] + ' ' + df['Description']"
   ]
  },
  {
   "cell_type": "code",
   "execution_count": null,
   "id": "43f47d53",
   "metadata": {},
   "outputs": [],
   "source": [
    "from sklearn.feature_extraction.text import TfidfVectorizer\n",
    "from sklearn.neighbors import NearestNeighbors\n",
    "\n",
    "# Vectorize the combined text features\n",
    "vectorizer = TfidfVectorizer(stop_words='english', max_features=10000)\n",
    "tfidf_matrix = vectorizer.fit_transform(df['combined_features'])"
   ]
  },
  {
   "cell_type": "code",
   "execution_count": null,
   "id": "55c47724",
   "metadata": {},
   "outputs": [
    {
     "data": {
      "text/html": [
       "<style>#sk-container-id-1 {\n",
       "  /* Definition of color scheme common for light and dark mode */\n",
       "  --sklearn-color-text: #000;\n",
       "  --sklearn-color-text-muted: #666;\n",
       "  --sklearn-color-line: gray;\n",
       "  /* Definition of color scheme for unfitted estimators */\n",
       "  --sklearn-color-unfitted-level-0: #fff5e6;\n",
       "  --sklearn-color-unfitted-level-1: #f6e4d2;\n",
       "  --sklearn-color-unfitted-level-2: #ffe0b3;\n",
       "  --sklearn-color-unfitted-level-3: chocolate;\n",
       "  /* Definition of color scheme for fitted estimators */\n",
       "  --sklearn-color-fitted-level-0: #f0f8ff;\n",
       "  --sklearn-color-fitted-level-1: #d4ebff;\n",
       "  --sklearn-color-fitted-level-2: #b3dbfd;\n",
       "  --sklearn-color-fitted-level-3: cornflowerblue;\n",
       "\n",
       "  /* Specific color for light theme */\n",
       "  --sklearn-color-text-on-default-background: var(--sg-text-color, var(--theme-code-foreground, var(--jp-content-font-color1, black)));\n",
       "  --sklearn-color-background: var(--sg-background-color, var(--theme-background, var(--jp-layout-color0, white)));\n",
       "  --sklearn-color-border-box: var(--sg-text-color, var(--theme-code-foreground, var(--jp-content-font-color1, black)));\n",
       "  --sklearn-color-icon: #696969;\n",
       "\n",
       "  @media (prefers-color-scheme: dark) {\n",
       "    /* Redefinition of color scheme for dark theme */\n",
       "    --sklearn-color-text-on-default-background: var(--sg-text-color, var(--theme-code-foreground, var(--jp-content-font-color1, white)));\n",
       "    --sklearn-color-background: var(--sg-background-color, var(--theme-background, var(--jp-layout-color0, #111)));\n",
       "    --sklearn-color-border-box: var(--sg-text-color, var(--theme-code-foreground, var(--jp-content-font-color1, white)));\n",
       "    --sklearn-color-icon: #878787;\n",
       "  }\n",
       "}\n",
       "\n",
       "#sk-container-id-1 {\n",
       "  color: var(--sklearn-color-text);\n",
       "}\n",
       "\n",
       "#sk-container-id-1 pre {\n",
       "  padding: 0;\n",
       "}\n",
       "\n",
       "#sk-container-id-1 input.sk-hidden--visually {\n",
       "  border: 0;\n",
       "  clip: rect(1px 1px 1px 1px);\n",
       "  clip: rect(1px, 1px, 1px, 1px);\n",
       "  height: 1px;\n",
       "  margin: -1px;\n",
       "  overflow: hidden;\n",
       "  padding: 0;\n",
       "  position: absolute;\n",
       "  width: 1px;\n",
       "}\n",
       "\n",
       "#sk-container-id-1 div.sk-dashed-wrapped {\n",
       "  border: 1px dashed var(--sklearn-color-line);\n",
       "  margin: 0 0.4em 0.5em 0.4em;\n",
       "  box-sizing: border-box;\n",
       "  padding-bottom: 0.4em;\n",
       "  background-color: var(--sklearn-color-background);\n",
       "}\n",
       "\n",
       "#sk-container-id-1 div.sk-container {\n",
       "  /* jupyter's `normalize.less` sets `[hidden] { display: none; }`\n",
       "     but bootstrap.min.css set `[hidden] { display: none !important; }`\n",
       "     so we also need the `!important` here to be able to override the\n",
       "     default hidden behavior on the sphinx rendered scikit-learn.org.\n",
       "     See: https://github.com/scikit-learn/scikit-learn/issues/21755 */\n",
       "  display: inline-block !important;\n",
       "  position: relative;\n",
       "}\n",
       "\n",
       "#sk-container-id-1 div.sk-text-repr-fallback {\n",
       "  display: none;\n",
       "}\n",
       "\n",
       "div.sk-parallel-item,\n",
       "div.sk-serial,\n",
       "div.sk-item {\n",
       "  /* draw centered vertical line to link estimators */\n",
       "  background-image: linear-gradient(var(--sklearn-color-text-on-default-background), var(--sklearn-color-text-on-default-background));\n",
       "  background-size: 2px 100%;\n",
       "  background-repeat: no-repeat;\n",
       "  background-position: center center;\n",
       "}\n",
       "\n",
       "/* Parallel-specific style estimator block */\n",
       "\n",
       "#sk-container-id-1 div.sk-parallel-item::after {\n",
       "  content: \"\";\n",
       "  width: 100%;\n",
       "  border-bottom: 2px solid var(--sklearn-color-text-on-default-background);\n",
       "  flex-grow: 1;\n",
       "}\n",
       "\n",
       "#sk-container-id-1 div.sk-parallel {\n",
       "  display: flex;\n",
       "  align-items: stretch;\n",
       "  justify-content: center;\n",
       "  background-color: var(--sklearn-color-background);\n",
       "  position: relative;\n",
       "}\n",
       "\n",
       "#sk-container-id-1 div.sk-parallel-item {\n",
       "  display: flex;\n",
       "  flex-direction: column;\n",
       "}\n",
       "\n",
       "#sk-container-id-1 div.sk-parallel-item:first-child::after {\n",
       "  align-self: flex-end;\n",
       "  width: 50%;\n",
       "}\n",
       "\n",
       "#sk-container-id-1 div.sk-parallel-item:last-child::after {\n",
       "  align-self: flex-start;\n",
       "  width: 50%;\n",
       "}\n",
       "\n",
       "#sk-container-id-1 div.sk-parallel-item:only-child::after {\n",
       "  width: 0;\n",
       "}\n",
       "\n",
       "/* Serial-specific style estimator block */\n",
       "\n",
       "#sk-container-id-1 div.sk-serial {\n",
       "  display: flex;\n",
       "  flex-direction: column;\n",
       "  align-items: center;\n",
       "  background-color: var(--sklearn-color-background);\n",
       "  padding-right: 1em;\n",
       "  padding-left: 1em;\n",
       "}\n",
       "\n",
       "\n",
       "/* Toggleable style: style used for estimator/Pipeline/ColumnTransformer box that is\n",
       "clickable and can be expanded/collapsed.\n",
       "- Pipeline and ColumnTransformer use this feature and define the default style\n",
       "- Estimators will overwrite some part of the style using the `sk-estimator` class\n",
       "*/\n",
       "\n",
       "/* Pipeline and ColumnTransformer style (default) */\n",
       "\n",
       "#sk-container-id-1 div.sk-toggleable {\n",
       "  /* Default theme specific background. It is overwritten whether we have a\n",
       "  specific estimator or a Pipeline/ColumnTransformer */\n",
       "  background-color: var(--sklearn-color-background);\n",
       "}\n",
       "\n",
       "/* Toggleable label */\n",
       "#sk-container-id-1 label.sk-toggleable__label {\n",
       "  cursor: pointer;\n",
       "  display: flex;\n",
       "  width: 100%;\n",
       "  margin-bottom: 0;\n",
       "  padding: 0.5em;\n",
       "  box-sizing: border-box;\n",
       "  text-align: center;\n",
       "  align-items: start;\n",
       "  justify-content: space-between;\n",
       "  gap: 0.5em;\n",
       "}\n",
       "\n",
       "#sk-container-id-1 label.sk-toggleable__label .caption {\n",
       "  font-size: 0.6rem;\n",
       "  font-weight: lighter;\n",
       "  color: var(--sklearn-color-text-muted);\n",
       "}\n",
       "\n",
       "#sk-container-id-1 label.sk-toggleable__label-arrow:before {\n",
       "  /* Arrow on the left of the label */\n",
       "  content: \"▸\";\n",
       "  float: left;\n",
       "  margin-right: 0.25em;\n",
       "  color: var(--sklearn-color-icon);\n",
       "}\n",
       "\n",
       "#sk-container-id-1 label.sk-toggleable__label-arrow:hover:before {\n",
       "  color: var(--sklearn-color-text);\n",
       "}\n",
       "\n",
       "/* Toggleable content - dropdown */\n",
       "\n",
       "#sk-container-id-1 div.sk-toggleable__content {\n",
       "  max-height: 0;\n",
       "  max-width: 0;\n",
       "  overflow: hidden;\n",
       "  text-align: left;\n",
       "  /* unfitted */\n",
       "  background-color: var(--sklearn-color-unfitted-level-0);\n",
       "}\n",
       "\n",
       "#sk-container-id-1 div.sk-toggleable__content.fitted {\n",
       "  /* fitted */\n",
       "  background-color: var(--sklearn-color-fitted-level-0);\n",
       "}\n",
       "\n",
       "#sk-container-id-1 div.sk-toggleable__content pre {\n",
       "  margin: 0.2em;\n",
       "  border-radius: 0.25em;\n",
       "  color: var(--sklearn-color-text);\n",
       "  /* unfitted */\n",
       "  background-color: var(--sklearn-color-unfitted-level-0);\n",
       "}\n",
       "\n",
       "#sk-container-id-1 div.sk-toggleable__content.fitted pre {\n",
       "  /* unfitted */\n",
       "  background-color: var(--sklearn-color-fitted-level-0);\n",
       "}\n",
       "\n",
       "#sk-container-id-1 input.sk-toggleable__control:checked~div.sk-toggleable__content {\n",
       "  /* Expand drop-down */\n",
       "  max-height: 200px;\n",
       "  max-width: 100%;\n",
       "  overflow: auto;\n",
       "}\n",
       "\n",
       "#sk-container-id-1 input.sk-toggleable__control:checked~label.sk-toggleable__label-arrow:before {\n",
       "  content: \"▾\";\n",
       "}\n",
       "\n",
       "/* Pipeline/ColumnTransformer-specific style */\n",
       "\n",
       "#sk-container-id-1 div.sk-label input.sk-toggleable__control:checked~label.sk-toggleable__label {\n",
       "  color: var(--sklearn-color-text);\n",
       "  background-color: var(--sklearn-color-unfitted-level-2);\n",
       "}\n",
       "\n",
       "#sk-container-id-1 div.sk-label.fitted input.sk-toggleable__control:checked~label.sk-toggleable__label {\n",
       "  background-color: var(--sklearn-color-fitted-level-2);\n",
       "}\n",
       "\n",
       "/* Estimator-specific style */\n",
       "\n",
       "/* Colorize estimator box */\n",
       "#sk-container-id-1 div.sk-estimator input.sk-toggleable__control:checked~label.sk-toggleable__label {\n",
       "  /* unfitted */\n",
       "  background-color: var(--sklearn-color-unfitted-level-2);\n",
       "}\n",
       "\n",
       "#sk-container-id-1 div.sk-estimator.fitted input.sk-toggleable__control:checked~label.sk-toggleable__label {\n",
       "  /* fitted */\n",
       "  background-color: var(--sklearn-color-fitted-level-2);\n",
       "}\n",
       "\n",
       "#sk-container-id-1 div.sk-label label.sk-toggleable__label,\n",
       "#sk-container-id-1 div.sk-label label {\n",
       "  /* The background is the default theme color */\n",
       "  color: var(--sklearn-color-text-on-default-background);\n",
       "}\n",
       "\n",
       "/* On hover, darken the color of the background */\n",
       "#sk-container-id-1 div.sk-label:hover label.sk-toggleable__label {\n",
       "  color: var(--sklearn-color-text);\n",
       "  background-color: var(--sklearn-color-unfitted-level-2);\n",
       "}\n",
       "\n",
       "/* Label box, darken color on hover, fitted */\n",
       "#sk-container-id-1 div.sk-label.fitted:hover label.sk-toggleable__label.fitted {\n",
       "  color: var(--sklearn-color-text);\n",
       "  background-color: var(--sklearn-color-fitted-level-2);\n",
       "}\n",
       "\n",
       "/* Estimator label */\n",
       "\n",
       "#sk-container-id-1 div.sk-label label {\n",
       "  font-family: monospace;\n",
       "  font-weight: bold;\n",
       "  display: inline-block;\n",
       "  line-height: 1.2em;\n",
       "}\n",
       "\n",
       "#sk-container-id-1 div.sk-label-container {\n",
       "  text-align: center;\n",
       "}\n",
       "\n",
       "/* Estimator-specific */\n",
       "#sk-container-id-1 div.sk-estimator {\n",
       "  font-family: monospace;\n",
       "  border: 1px dotted var(--sklearn-color-border-box);\n",
       "  border-radius: 0.25em;\n",
       "  box-sizing: border-box;\n",
       "  margin-bottom: 0.5em;\n",
       "  /* unfitted */\n",
       "  background-color: var(--sklearn-color-unfitted-level-0);\n",
       "}\n",
       "\n",
       "#sk-container-id-1 div.sk-estimator.fitted {\n",
       "  /* fitted */\n",
       "  background-color: var(--sklearn-color-fitted-level-0);\n",
       "}\n",
       "\n",
       "/* on hover */\n",
       "#sk-container-id-1 div.sk-estimator:hover {\n",
       "  /* unfitted */\n",
       "  background-color: var(--sklearn-color-unfitted-level-2);\n",
       "}\n",
       "\n",
       "#sk-container-id-1 div.sk-estimator.fitted:hover {\n",
       "  /* fitted */\n",
       "  background-color: var(--sklearn-color-fitted-level-2);\n",
       "}\n",
       "\n",
       "/* Specification for estimator info (e.g. \"i\" and \"?\") */\n",
       "\n",
       "/* Common style for \"i\" and \"?\" */\n",
       "\n",
       ".sk-estimator-doc-link,\n",
       "a:link.sk-estimator-doc-link,\n",
       "a:visited.sk-estimator-doc-link {\n",
       "  float: right;\n",
       "  font-size: smaller;\n",
       "  line-height: 1em;\n",
       "  font-family: monospace;\n",
       "  background-color: var(--sklearn-color-background);\n",
       "  border-radius: 1em;\n",
       "  height: 1em;\n",
       "  width: 1em;\n",
       "  text-decoration: none !important;\n",
       "  margin-left: 0.5em;\n",
       "  text-align: center;\n",
       "  /* unfitted */\n",
       "  border: var(--sklearn-color-unfitted-level-1) 1pt solid;\n",
       "  color: var(--sklearn-color-unfitted-level-1);\n",
       "}\n",
       "\n",
       ".sk-estimator-doc-link.fitted,\n",
       "a:link.sk-estimator-doc-link.fitted,\n",
       "a:visited.sk-estimator-doc-link.fitted {\n",
       "  /* fitted */\n",
       "  border: var(--sklearn-color-fitted-level-1) 1pt solid;\n",
       "  color: var(--sklearn-color-fitted-level-1);\n",
       "}\n",
       "\n",
       "/* On hover */\n",
       "div.sk-estimator:hover .sk-estimator-doc-link:hover,\n",
       ".sk-estimator-doc-link:hover,\n",
       "div.sk-label-container:hover .sk-estimator-doc-link:hover,\n",
       ".sk-estimator-doc-link:hover {\n",
       "  /* unfitted */\n",
       "  background-color: var(--sklearn-color-unfitted-level-3);\n",
       "  color: var(--sklearn-color-background);\n",
       "  text-decoration: none;\n",
       "}\n",
       "\n",
       "div.sk-estimator.fitted:hover .sk-estimator-doc-link.fitted:hover,\n",
       ".sk-estimator-doc-link.fitted:hover,\n",
       "div.sk-label-container:hover .sk-estimator-doc-link.fitted:hover,\n",
       ".sk-estimator-doc-link.fitted:hover {\n",
       "  /* fitted */\n",
       "  background-color: var(--sklearn-color-fitted-level-3);\n",
       "  color: var(--sklearn-color-background);\n",
       "  text-decoration: none;\n",
       "}\n",
       "\n",
       "/* Span, style for the box shown on hovering the info icon */\n",
       ".sk-estimator-doc-link span {\n",
       "  display: none;\n",
       "  z-index: 9999;\n",
       "  position: relative;\n",
       "  font-weight: normal;\n",
       "  right: .2ex;\n",
       "  padding: .5ex;\n",
       "  margin: .5ex;\n",
       "  width: min-content;\n",
       "  min-width: 20ex;\n",
       "  max-width: 50ex;\n",
       "  color: var(--sklearn-color-text);\n",
       "  box-shadow: 2pt 2pt 4pt #999;\n",
       "  /* unfitted */\n",
       "  background: var(--sklearn-color-unfitted-level-0);\n",
       "  border: .5pt solid var(--sklearn-color-unfitted-level-3);\n",
       "}\n",
       "\n",
       ".sk-estimator-doc-link.fitted span {\n",
       "  /* fitted */\n",
       "  background: var(--sklearn-color-fitted-level-0);\n",
       "  border: var(--sklearn-color-fitted-level-3);\n",
       "}\n",
       "\n",
       ".sk-estimator-doc-link:hover span {\n",
       "  display: block;\n",
       "}\n",
       "\n",
       "/* \"?\"-specific style due to the `<a>` HTML tag */\n",
       "\n",
       "#sk-container-id-1 a.estimator_doc_link {\n",
       "  float: right;\n",
       "  font-size: 1rem;\n",
       "  line-height: 1em;\n",
       "  font-family: monospace;\n",
       "  background-color: var(--sklearn-color-background);\n",
       "  border-radius: 1rem;\n",
       "  height: 1rem;\n",
       "  width: 1rem;\n",
       "  text-decoration: none;\n",
       "  /* unfitted */\n",
       "  color: var(--sklearn-color-unfitted-level-1);\n",
       "  border: var(--sklearn-color-unfitted-level-1) 1pt solid;\n",
       "}\n",
       "\n",
       "#sk-container-id-1 a.estimator_doc_link.fitted {\n",
       "  /* fitted */\n",
       "  border: var(--sklearn-color-fitted-level-1) 1pt solid;\n",
       "  color: var(--sklearn-color-fitted-level-1);\n",
       "}\n",
       "\n",
       "/* On hover */\n",
       "#sk-container-id-1 a.estimator_doc_link:hover {\n",
       "  /* unfitted */\n",
       "  background-color: var(--sklearn-color-unfitted-level-3);\n",
       "  color: var(--sklearn-color-background);\n",
       "  text-decoration: none;\n",
       "}\n",
       "\n",
       "#sk-container-id-1 a.estimator_doc_link.fitted:hover {\n",
       "  /* fitted */\n",
       "  background-color: var(--sklearn-color-fitted-level-3);\n",
       "}\n",
       "</style><div id=\"sk-container-id-1\" class=\"sk-top-container\"><div class=\"sk-text-repr-fallback\"><pre>NearestNeighbors(algorithm=&#x27;brute&#x27;, metric=&#x27;cosine&#x27;, n_neighbors=10)</pre><b>In a Jupyter environment, please rerun this cell to show the HTML representation or trust the notebook. <br />On GitHub, the HTML representation is unable to render, please try loading this page with nbviewer.org.</b></div><div class=\"sk-container\" hidden><div class=\"sk-item\"><div class=\"sk-estimator fitted sk-toggleable\"><input class=\"sk-toggleable__control sk-hidden--visually\" id=\"sk-estimator-id-1\" type=\"checkbox\" checked><label for=\"sk-estimator-id-1\" class=\"sk-toggleable__label fitted sk-toggleable__label-arrow\"><div><div>NearestNeighbors</div></div><div><a class=\"sk-estimator-doc-link fitted\" rel=\"noreferrer\" target=\"_blank\" href=\"https://scikit-learn.org/1.6/modules/generated/sklearn.neighbors.NearestNeighbors.html\">?<span>Documentation for NearestNeighbors</span></a><span class=\"sk-estimator-doc-link fitted\">i<span>Fitted</span></span></div></label><div class=\"sk-toggleable__content fitted\"><pre>NearestNeighbors(algorithm=&#x27;brute&#x27;, metric=&#x27;cosine&#x27;, n_neighbors=10)</pre></div> </div></div></div></div>"
      ],
      "text/plain": [
       "NearestNeighbors(algorithm='brute', metric='cosine', n_neighbors=10)"
      ]
     },
     "execution_count": 15,
     "metadata": {},
     "output_type": "execute_result"
    }
   ],
   "source": [
    "# Fit the NearestNeighbors model\n",
    "model = NearestNeighbors(metric='cosine', algorithm='brute', n_neighbors=10)\n",
    "model.fit(tfidf_matrix)"
   ]
  },
  {
   "cell_type": "markdown",
   "id": "4f06d3b2",
   "metadata": {},
   "source": [
    "# 2.3 Recommend Similar Hotel (Locations, Ratings, Facilities)"
   ]
  },
  {
   "cell_type": "code",
   "execution_count": null,
   "id": "64c457df",
   "metadata": {},
   "outputs": [],
   "source": [
    "def recommend_similar_hotels_priority(hotel_name, city_name, radius_km=10, top_n=5):\n",
    "    # Get selected hotel info\n",
    "    selected_hotel = df[df['HotelName'] == hotel_name].iloc[0]\n",
    "    selected_rating = selected_hotel['HotelRating']\n",
    "    selected_rating_value = rating_order[selected_rating]\n",
    "    \n",
    "    # Step 1: Filter by city (or radius if using lat/lon)\n",
    "    city_hotels = df[df['cityName'].str.lower() == city_name.lower()]\n",
    "    \n",
    "    # Step 2: Prioritize same rating hotels\n",
    "    same_rating_hotels = city_hotels[city_hotels['HotelRating'] == selected_rating]\n",
    "\n",
    "    # Step 3: Fallback to nearby hotels with similar but lower/higher ratings (optional)\n",
    "    if len(same_rating_hotels) < top_n:\n",
    "        other_hotels = city_hotels[city_hotels['HotelRating'] != selected_rating]\n",
    "        other_hotels = other_hotels.sort_values(by='RatingValue', ascending=False)\n",
    "        fallback_hotels = pd.concat([same_rating_hotels, other_hotels]).head(top_n + 1)\n",
    "    else:\n",
    "        fallback_hotels = same_rating_hotels\n",
    "\n",
    "    # Step 4: Compute TF-IDF similarity within these hotels\n",
    "    tfidf_features = vectorizer.transform(fallback_hotels['combined_features'])\n",
    "    selected_vector = vectorizer.transform([selected_hotel['combined_features']])\n",
    "    cosine_sim = cosine_similarity(selected_vector, tfidf_features).flatten()\n",
    "\n",
    "    fallback_hotels = fallback_hotels.copy()\n",
    "    fallback_hotels['Similarity'] = cosine_sim\n",
    "    fallback_hotels = fallback_hotels[fallback_hotels['HotelName'] != hotel_name]\n",
    "\n",
    "\n",
    "    # Step 5: Sort by rating and similarity\n",
    "    results = fallback_hotels.sort_values(by=['RatingValue', 'Similarity'], ascending=[False, False])\n",
    "\n",
    "    return results.head(top_n)\n"
   ]
  },
  {
   "cell_type": "code",
   "execution_count": null,
   "id": "4971965e",
   "metadata": {},
   "outputs": [],
   "source": [
    "import joblib\n",
    "\n",
    "# Save the TF-IDF vectorizer\n",
    "joblib.dump(vectorizer, 'tfidf_vectorizer.pkl')\n",
    "\n",
    "# Save the DataFrame\n",
    "df.to_pickle('hotel_data.pkl')\n"
   ]
  },
  {
   "cell_type": "code",
   "execution_count": null,
   "id": "1d722c22",
   "metadata": {},
   "outputs": [
    {
     "data": {
      "text/plain": [
       "['tfidf_matrix.pkl']"
      ]
     },
     "execution_count": 18,
     "metadata": {},
     "output_type": "execute_result"
    }
   ],
   "source": [
    "joblib.dump(tfidf_matrix, 'tfidf_matrix.pkl')"
   ]
  },
  {
   "cell_type": "markdown",
   "id": "ab4a5a01",
   "metadata": {},
   "source": [
    "# 3. Filter to South East Asia data only to deploy to streamlit cloud"
   ]
  },
  {
   "cell_type": "code",
   "execution_count": null,
   "id": "2125aabd",
   "metadata": {},
   "outputs": [],
   "source": [
    "south_eastasia_countries = ['Cambodia', 'Indonesia', 'Laos', 'Malaysia',\n",
    "    'Myanmar', 'Philippines', 'Singapore', 'Thailand', 'Vietnam']\n",
    "\n",
    "df = pd.read_pickle(\"hotel_data.pkl\")  # your original large file\n",
    "df_asia = df[df['Country'].isin(south_eastasia_countries)].copy()\n",
    "df_asia.to_pickle(\"hotel_data_southeastasia.pkl\", compression=\"gzip\")  # MUCH smaller file!"
   ]
  }
 ],
 "metadata": {
  "kernelspec": {
   "display_name": "Python 3",
   "language": "python",
   "name": "python3"
  },
  "language_info": {
   "codemirror_mode": {
    "name": "ipython",
    "version": 3
   },
   "file_extension": ".py",
   "mimetype": "text/x-python",
   "name": "python",
   "nbconvert_exporter": "python",
   "pygments_lexer": "ipython3",
   "version": "3.10.11"
  }
 },
 "nbformat": 4,
 "nbformat_minor": 5
}
